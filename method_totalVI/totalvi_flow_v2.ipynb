{
 "cells": [
  {
   "cell_type": "code",
   "execution_count": 1,
   "id": "f5c557de",
   "metadata": {},
   "outputs": [
    {
     "name": "stderr",
     "output_type": "stream",
     "text": [
      "Global seed set to 0\n",
      "/restricted/projectnb/camplab/home/yin/.conda/envs/totalvi/lib/python3.9/site-packages/chex/_src/pytypes.py:37: FutureWarning: jax.tree_structure is deprecated, and will be removed in a future release. Use jax.tree_util.tree_structure instead.\n",
      "  PyTreeDef = type(jax.tree_structure(None))\n"
     ]
    }
   ],
   "source": [
    "import pandas as pd\n",
    "import numpy as np\n",
    "import matplotlib.pyplot as plt\n",
    "\n",
    "import scvi\n",
    "import scanpy as sc"
   ]
  },
  {
   "cell_type": "code",
   "execution_count": 2,
   "id": "ebf1061e",
   "metadata": {},
   "outputs": [
    {
     "data": {
      "text/plain": [
       "\"\\n# Import raw count matrix\\nadata_raw = sc.read_10x_mtx(\\n    datadir + '/raw_feature_bc_matrix',\\n    var_names='gene_symbols',\\n    gex_only= False)\\n\""
      ]
     },
     "execution_count": 2,
     "metadata": {},
     "output_type": "execute_result"
    }
   ],
   "source": [
    "# Import data\n",
    "\n",
    "# datadir_name = 'data_pbmc5knextgem'\n",
    "# datadir_name = 'data_pbmc10khealthdonor'\n",
    "# datadir_name = 'data_malt10k'\n",
    "\n",
    "# datadir = '/rprojectnb2/camplab/home/yin/poisson/' + datadir_name\n",
    "\n",
    "\n",
    "# Import data\n",
    "datadir_name = 'young_aged'\n",
    "datadir = '/rprojectnb2/camplab/home/yin/decontX_ADT/zhangetal/young-aged'\n",
    "\n",
    "\n",
    "adata_filtered = sc.read_10x_mtx(\n",
    "    datadir + '/filtered_feature_bc_matrix', \n",
    "    var_names='gene_symbols',\n",
    "    gex_only= False)\n",
    "\n",
    "\n",
    "'''\n",
    "# Import raw count matrix\n",
    "adata_raw = sc.read_10x_mtx(\n",
    "    datadir + '/raw_feature_bc_matrix',\n",
    "    var_names='gene_symbols',\n",
    "    gex_only= False)\n",
    "'''\n",
    "\n",
    "\n"
   ]
  },
  {
   "cell_type": "code",
   "execution_count": 3,
   "id": "2c0c93a0",
   "metadata": {},
   "outputs": [
    {
     "name": "stdout",
     "output_type": "stream",
     "text": [
      "AnnData object with n_obs × n_vars = 30569 × 31111\n",
      "    var: 'gene_ids', 'feature_types'\n"
     ]
    }
   ],
   "source": [
    "print(adata_filtered)"
   ]
  },
  {
   "cell_type": "code",
   "execution_count": 4,
   "id": "3fd9d1af",
   "metadata": {},
   "outputs": [],
   "source": [
    "adata_filtered.layers['counts'] = adata_filtered.X.copy()"
   ]
  },
  {
   "cell_type": "code",
   "execution_count": 5,
   "id": "b7d64ab3",
   "metadata": {},
   "outputs": [
    {
     "data": {
      "text/plain": [
       "Xkr4        Gene Expression\n",
       "Gm1992      Gene Expression\n",
       "Gm37381     Gene Expression\n",
       "Rp1         Gene Expression\n",
       "Sox17       Gene Expression\n",
       "                 ...       \n",
       "H-HTO-2    Antibody Capture\n",
       "H-HTO-3    Antibody Capture\n",
       "H-HTO-4    Antibody Capture\n",
       "H-HTO-5    Antibody Capture\n",
       "H-HTO-6    Antibody Capture\n",
       "Name: feature_types, Length: 31111, dtype: object"
      ]
     },
     "execution_count": 5,
     "metadata": {},
     "output_type": "execute_result"
    }
   ],
   "source": [
    "adata_filtered.var['feature_types']"
   ]
  },
  {
   "cell_type": "code",
   "execution_count": 6,
   "id": "d86330fb",
   "metadata": {},
   "outputs": [
    {
     "name": "stdout",
     "output_type": "stream",
     "text": [
      "View of AnnData object with n_obs × n_vars = 30569 × 49\n",
      "    var: 'gene_ids', 'feature_types'\n",
      "    layers: 'counts'\n",
      "View of AnnData object with n_obs × n_vars = 30569 × 31062\n",
      "    var: 'gene_ids', 'feature_types'\n",
      "    layers: 'counts'\n"
     ]
    }
   ],
   "source": [
    "# Split data into protein and rna\n",
    "\n",
    "protein = adata_filtered[:, adata_filtered.var['feature_types'] != 'Gene Expression']\n",
    "print(protein)\n",
    "rna = adata_filtered[:, adata_filtered.var['feature_types'] == 'Gene Expression']\n",
    "print(rna)"
   ]
  },
  {
   "cell_type": "code",
   "execution_count": 7,
   "id": "e925a9ae",
   "metadata": {},
   "outputs": [
    {
     "name": "stdout",
     "output_type": "stream",
     "text": [
      "View of AnnData object with n_obs × n_vars = 30569 × 35\n",
      "    var: 'gene_ids', 'feature_types'\n",
      "    layers: 'counts'\n",
      "View of AnnData object with n_obs × n_vars = 30569 × 35\n",
      "    var: 'gene_ids', 'feature_types'\n",
      "    layers: 'counts'\n",
      "View of AnnData object with n_obs × n_vars = 30569 × 31\n",
      "    var: 'gene_ids', 'feature_types'\n",
      "    layers: 'counts'\n"
     ]
    }
   ],
   "source": [
    "# Remove HTO tag\n",
    "\n",
    "hto_f = ['HTO' in name for name in protein.var_names]\n",
    "hto_f = np.array(hto_f)\n",
    "protein = protein[:,~hto_f]\n",
    "\n",
    "print(protein)\n",
    "\n",
    "hto_f = ['ADT' in name for name in protein.var_names]\n",
    "hto_f = np.array(hto_f)\n",
    "protein = protein[:,~hto_f]\n",
    "\n",
    "print(protein)\n",
    "\n",
    "adt_f = np.sum(protein.X > 0, 0) > 50\n",
    "protein = protein[:,adt_f]\n",
    "\n",
    "print(protein)"
   ]
  },
  {
   "cell_type": "code",
   "execution_count": 8,
   "id": "79d116b6",
   "metadata": {},
   "outputs": [
    {
     "name": "stderr",
     "output_type": "stream",
     "text": [
      "/scratch/136144.1.ood/ipykernel_5995/7817696.py:4: ImplicitModificationWarning: Trying to modify attribute `.var` of view, initializing view as actual.\n",
      "  rna.var['mito'] = rna.var_names.str.startswith(\"MT-\")\n"
     ]
    },
    {
     "name": "stdout",
     "output_type": "stream",
     "text": [
      "Num of MT genes: 0\n",
      "Num of mt genes: 13\n"
     ]
    },
    {
     "name": "stderr",
     "output_type": "stream",
     "text": [
      "/restricted/projectnb/camplab/home/yin/.conda/envs/totalvi/lib/python3.9/site-packages/scanpy/preprocessing/_qc.py:135: ImplicitModificationWarning: Trying to modify attribute `.obs` of view, initializing view as actual.\n",
      "  adata.obs[obs_metrics.columns] = obs_metrics\n"
     ]
    }
   ],
   "source": [
    "# QC\n",
    "\n",
    "# calc qc metrics\n",
    "rna.var['mito'] = rna.var_names.str.startswith(\"MT-\")\n",
    "print('Num of MT genes: ' + str(sum(rna.var['mito'])))\n",
    "\n",
    "if sum(rna.var['mito']) == 0:\n",
    "    rna.var['mito'] = rna.var_names.str.startswith(\"mt-\")\n",
    "    print('Num of mt genes: ' + str(sum(rna.var['mito'])))\n",
    "\n",
    "sc.pp.calculate_qc_metrics(rna,\n",
    "                           qc_vars=[\"mito\"],\n",
    "                           var_type='genes',\n",
    "                           percent_top = None,\n",
    "                           inplace=True)\n",
    "\n",
    "sc.pp.calculate_qc_metrics(protein,\n",
    "                           var_type='adt',\n",
    "                           percent_top = None,\n",
    "                           inplace=True)\n",
    "\n",
    "\n"
   ]
  },
  {
   "cell_type": "code",
   "execution_count": 9,
   "id": "07f71381",
   "metadata": {},
   "outputs": [
    {
     "name": "stdout",
     "output_type": "stream",
     "text": [
      "Num of cells after filtering: 27712\n",
      "28784\n",
      "30569\n",
      "30100\n",
      "483.68\n"
     ]
    }
   ],
   "source": [
    "# Remove high mitocondrial percentage cells\n",
    "# Remove 0 count cells\n",
    "# Remove outliers\n",
    "\n",
    "flt = np.logical_and.reduce((rna.obs['pct_counts_mito'] < 14,\n",
    "                            rna.obs['total_counts'] > 0,\n",
    "                            protein.obs['total_counts'] > 0,\n",
    "                            rna.obs['total_counts'] > np.quantile(rna.obs['total_counts'], 0.01),\n",
    "                            rna.obs['total_counts'] < np.quantile(rna.obs['total_counts'], 0.99),\n",
    "                            protein.obs['total_counts'] > np.quantile(protein.obs['total_counts'], 0.01),\n",
    "                            protein.obs['total_counts'] < np.quantile(protein.obs['total_counts'], 0.99)))\n",
    " \n",
    "    \n",
    "    \n",
    "\n",
    "print('Num of cells after filtering: ' + str(sum(flt)))\n",
    "\n",
    "print(sum(rna.obs['pct_counts_mito'] < 14))\n",
    "print(sum(rna.obs['total_counts'] > 0))\n",
    "print(sum(protein.obs['total_counts'] > 0))\n",
    "print(np.quantile(rna.obs['total_counts'], 0.01))\n"
   ]
  },
  {
   "cell_type": "code",
   "execution_count": 10,
   "id": "9248955e",
   "metadata": {},
   "outputs": [
    {
     "name": "stdout",
     "output_type": "stream",
     "text": [
      "Index(['Xkr4', 'Gm1992', 'Gm37381', 'Rp1', 'Sox17', 'Gm37323', 'Mrpl15',\n",
      "       'Lypla1', 'Gm37988', 'Tcea1',\n",
      "       ...\n",
      "       'CITE_PD-1', 'CITE_PD-L1', 'CITE_CD169-Siglec-1', 'CITE_Siglec-H',\n",
      "       'CITE_TMEM119', 'CITE_XCR1', 'CITE_CD24', 'CITE_CD103', 'CITE_CD64',\n",
      "       'CITE_CD83'],\n",
      "      dtype='object', length=31093)\n"
     ]
    }
   ],
   "source": [
    "# Apply filter\n",
    "\n",
    "feature_flt = [feature in rna.var_names or feature in protein.var_names for feature in adata_filtered.var_names]\n",
    "\n",
    "adata_filtered_clean = adata_filtered[flt,feature_flt]\n",
    "print(adata_filtered_clean.var_names)\n"
   ]
  },
  {
   "cell_type": "code",
   "execution_count": 11,
   "id": "d3dcf5b0",
   "metadata": {},
   "outputs": [
    {
     "name": "stdout",
     "output_type": "stream",
     "text": [
      "AnnData object with n_obs × n_vars = 27712 × 31062\n",
      "    var: 'gene_ids', 'feature_types'\n",
      "    obsm: 'protein_expression'\n",
      "    layers: 'counts'\n",
      "(27712, 31)\n"
     ]
    }
   ],
   "source": [
    "# Organize: https://docs.scvi-tools.org/en/stable/tutorials/notebooks/data_loading.html\n",
    "\n",
    "scvi.data.organize_cite_seq_10x(adata_filtered_clean)\n",
    "print(adata_filtered_clean)\n",
    "print(adata_filtered_clean.obsm['protein_expression'].shape)\n"
   ]
  },
  {
   "cell_type": "code",
   "execution_count": 12,
   "id": "5ba5df2c",
   "metadata": {},
   "outputs": [
    {
     "name": "stdout",
     "output_type": "stream",
     "text": [
      "AnnData object with n_obs × n_vars = 27712 × 4000\n",
      "    var: 'gene_ids', 'feature_types', 'highly_variable', 'highly_variable_rank', 'means', 'variances', 'variances_norm'\n",
      "    uns: 'log1p', 'hvg'\n",
      "    obsm: 'protein_expression'\n",
      "    layers: 'counts'\n"
     ]
    }
   ],
   "source": [
    "# Setup for totalVI: https://docs.scvi-tools.org/en/stable/tutorials/notebooks/totalVI.html\n",
    "\n",
    "sc.pp.normalize_total(adata_filtered_clean, target_sum=1e4)\n",
    "sc.pp.log1p(adata_filtered_clean)\n",
    "\n",
    "sc.pp.highly_variable_genes(\n",
    "    adata_filtered_clean,\n",
    "    n_top_genes=4000,\n",
    "    flavor=\"seurat_v3\",\n",
    "    subset=True,\n",
    "    layer=\"counts\"\n",
    ")\n",
    "\n",
    "print(adata_filtered_clean)"
   ]
  },
  {
   "cell_type": "code",
   "execution_count": 13,
   "id": "d56c4354",
   "metadata": {},
   "outputs": [
    {
     "name": "stdout",
     "output_type": "stream",
     "text": [
      "\u001b[34mINFO    \u001b[0m Using column names from columns of adata.obsm\u001b[1m[\u001b[0m\u001b[32m'protein_expression'\u001b[0m\u001b[1m]\u001b[0m                 \n",
      "\u001b[34mINFO    \u001b[0m Computing empirical prior initialization for protein background.                    \n"
     ]
    },
    {
     "name": "stderr",
     "output_type": "stream",
     "text": [
      "GPU available: False, used: False\n",
      "TPU available: False, using: 0 TPU cores\n",
      "IPU available: False, using: 0 IPUs\n",
      "HPU available: False, using: 0 HPUs\n"
     ]
    },
    {
     "name": "stdout",
     "output_type": "stream",
     "text": [
      "Epoch 286/400:  72%|███████▏  | 286/400 [1:51:59<45:22, 23.88s/it, loss=1.02e+03, v_num=1]  Epoch 00286: reducing learning rate of group 0 to 2.4000e-03.\n",
      "Epoch 400/400: 100%|██████████| 400/400 [2:40:22<00:00, 24.06s/it, loss=1.02e+03, v_num=1]\n"
     ]
    }
   ],
   "source": [
    "# Run totalVI\n",
    "scvi.model.TOTALVI.setup_anndata(\n",
    "    adata_filtered_clean,\n",
    "    protein_expression_obsm_key=\"protein_expression\",\n",
    "    layer=\"counts\"\n",
    ")\n",
    "\n",
    "vae = scvi.model.TOTALVI(adata_filtered_clean, latent_distribution=\"normal\")\n",
    "vae.train()"
   ]
  },
  {
   "cell_type": "code",
   "execution_count": 14,
   "id": "40af88bc",
   "metadata": {},
   "outputs": [],
   "source": [
    "# Get results from trained model\n",
    "adata_filtered_clean.obsm[\"X_totalVI\"] = vae.get_latent_representation()\n",
    "\n",
    "adata_filtered_clean.layers[\"denoised_rna\"], adata_filtered_clean.obsm[\"denoised_protein\"] = vae.get_normalized_expression(\n",
    "    n_samples=25,\n",
    "    return_mean=True\n",
    ")\n"
   ]
  },
  {
   "cell_type": "code",
   "execution_count": 15,
   "id": "fd6940f9",
   "metadata": {},
   "outputs": [
    {
     "name": "stdout",
     "output_type": "stream",
     "text": [
      "AnnData object with n_obs × n_vars = 27712 × 4000\n",
      "    obs: '_scvi_labels', '_scvi_batch'\n",
      "    var: 'gene_ids', 'feature_types', 'highly_variable', 'highly_variable_rank', 'means', 'variances', 'variances_norm'\n",
      "    uns: 'log1p', 'hvg', '_scvi_uuid', '_scvi_manager_uuid'\n",
      "    obsm: 'protein_expression', 'X_totalVI', 'denoised_protein'\n",
      "    layers: 'counts', 'denoised_rna'\n",
      "                    CITE_CCR2-CD192  CITE_CD117-c-kit  CITE_CD11b  CITE_CD11c  \\\n",
      "AAACCCAAGCCGTTAT-1         0.234600          6.299818  140.652878   22.322241   \n",
      "AAACCCAAGGACGCTA-1         0.209244          0.005719  226.183640    0.616301   \n",
      "AAACCCACACAACCGC-1         0.232468          0.165325   14.420986    1.996154   \n",
      "AAACCCATCGCAACAT-1         0.207793          0.004741  215.626129    0.677236   \n",
      "AAACGAAAGTAAGCAT-1         0.280955         70.391823   24.819355    1.902060   \n",
      "...                             ...               ...         ...         ...   \n",
      "TTTGTTGGTTGACGGA-2         0.170946          0.008394  151.736450    0.066510   \n",
      "TTTGTTGTCAGCGCGT-2         0.188261          0.002453  200.266159    0.586013   \n",
      "TTTGTTGTCATGCCAA-2         0.210800          1.257070   16.624199   40.316750   \n",
      "TTTGTTGTCTCCCATG-2         0.214755          0.036905  107.712547    0.015977   \n",
      "TTTGTTGTCTGTAAGC-2         0.219609          0.003182    0.642325    0.000054   \n",
      "\n",
      "                    CITE_CD172a-SIRPa  CITE_CD25   CITE_CD3   CITE_CD38  \\\n",
      "AAACCCAAGCCGTTAT-1          12.138083   0.623949  26.614983  104.616806   \n",
      "AAACCCAAGGACGCTA-1          14.710382   0.003154   1.238555    0.276894   \n",
      "AAACCCACACAACCGC-1           2.270396   0.126950  50.194370  256.344177   \n",
      "AAACCCATCGCAACAT-1          15.151807   0.001264   1.768574    0.040599   \n",
      "AAACGAAAGTAAGCAT-1           3.682271   0.231766   4.152348  105.942581   \n",
      "...                               ...        ...        ...         ...   \n",
      "TTTGTTGGTTGACGGA-2          12.130528   0.002061   0.701240    0.024790   \n",
      "TTTGTTGTCAGCGCGT-2          14.105719   0.000086   0.921190    0.021290   \n",
      "TTTGTTGTCATGCCAA-2           0.627039   0.016537   4.434846   48.724972   \n",
      "TTTGTTGTCTCCCATG-2           7.784972   0.008874   0.576845    0.170855   \n",
      "TTTGTTGTCTGTAAGC-2           0.078770   0.000161   0.831294    0.197927   \n",
      "\n",
      "                     CITE_CD4   CITE_CD44  ...  CITE_PD-1  CITE_PD-L1  \\\n",
      "AAACCCAAGCCGTTAT-1  22.692608  101.284538  ...   4.738483   12.178224   \n",
      "AAACCCAAGGACGCTA-1   0.018439    0.031145  ...   0.917483    1.402516   \n",
      "AAACCCACACAACCGC-1  29.438438  108.795052  ...   7.484221    7.670527   \n",
      "AAACCCATCGCAACAT-1   0.023088    0.018543  ...   0.979966    1.578347   \n",
      "AAACGAAAGTAAGCAT-1   1.640232   92.492706  ...   1.061079   17.232162   \n",
      "...                       ...         ...  ...        ...         ...   \n",
      "TTTGTTGGTTGACGGA-2   0.011258    0.030885  ...   0.646859    1.170753   \n",
      "TTTGTTGTCAGCGCGT-2   0.006944    0.008359  ...   0.808963    1.414668   \n",
      "TTTGTTGTCATGCCAA-2   2.958685   65.059402  ...   1.188244    9.914672   \n",
      "TTTGTTGTCTCCCATG-2   0.013762    0.112991  ...   0.542440    0.734443   \n",
      "TTTGTTGTCTGTAAGC-2   0.020592    2.393591  ...   0.101614    0.057478   \n",
      "\n",
      "                    CITE_CD169-Siglec-1  CITE_Siglec-H  CITE_TMEM119  \\\n",
      "AAACCCAAGCCGTTAT-1             2.625979       2.817090      0.548585   \n",
      "AAACCCAAGGACGCTA-1             0.814455       2.769759      0.277447   \n",
      "AAACCCACACAACCGC-1             3.256586       2.461957      0.810916   \n",
      "AAACCCATCGCAACAT-1             0.793199       2.837103      0.380199   \n",
      "AAACGAAAGTAAGCAT-1             1.323337       2.177084      0.738754   \n",
      "...                                 ...            ...           ...   \n",
      "TTTGTTGGTTGACGGA-2             0.577718       2.304920      0.224370   \n",
      "TTTGTTGTCAGCGCGT-2             0.616557       2.482939      0.183765   \n",
      "TTTGTTGTCATGCCAA-2             1.635238       1.492280      0.501230   \n",
      "TTTGTTGTCTCCCATG-2             0.514691       1.904743      0.155203   \n",
      "TTTGTTGTCTGTAAGC-2             0.562247       1.201045      0.451799   \n",
      "\n",
      "                    CITE_XCR1   CITE_CD24  CITE_CD103  CITE_CD64  CITE_CD83  \n",
      "AAACCCAAGCCGTTAT-1   0.863676   33.866341    1.373470   1.059281   0.129671  \n",
      "AAACCCAAGGACGCTA-1   0.571876    5.522183    0.001106   2.123423   0.129367  \n",
      "AAACCCACACAACCGC-1   0.747262    6.686539    1.500389   0.122344   0.067766  \n",
      "AAACCCATCGCAACAT-1   0.547635    3.145011    0.002895   2.118462   0.097728  \n",
      "AAACGAAAGTAAGCAT-1   0.824854  252.625504    0.941311   0.276083   0.137107  \n",
      "...                       ...         ...         ...        ...        ...  \n",
      "TTTGTTGGTTGACGGA-2   0.446705    1.705330    0.008121   1.468526   0.078351  \n",
      "TTTGTTGTCAGCGCGT-2   0.466581    1.743672    0.000915   1.779446   0.080718  \n",
      "TTTGTTGTCATGCCAA-2   0.837995    2.952533    0.819725   0.109864   0.051287  \n",
      "TTTGTTGTCTCCCATG-2   0.613133   20.789885    0.012144   0.967555   0.061791  \n",
      "TTTGTTGTCTGTAAGC-2   0.820942  535.668701    0.000196   0.002028   0.023023  \n",
      "\n",
      "[27712 rows x 31 columns]\n"
     ]
    }
   ],
   "source": [
    "print(adata_filtered_clean)\n",
    "print(adata_filtered_clean.obsm[\"denoised_protein\"])"
   ]
  },
  {
   "cell_type": "code",
   "execution_count": 16,
   "id": "e71c5a79",
   "metadata": {},
   "outputs": [],
   "source": [
    "# Save reults to plot in R\n",
    "adata_filtered_clean.obsm[\"denoised_protein\"].to_csv('./totalvi_denoised_' + datadir_name + '.csv')"
   ]
  }
 ],
 "metadata": {
  "kernelspec": {
   "display_name": "totalvi",
   "language": "python",
   "name": "totalvi"
  },
  "language_info": {
   "codemirror_mode": {
    "name": "ipython",
    "version": 3
   },
   "file_extension": ".py",
   "mimetype": "text/x-python",
   "name": "python",
   "nbconvert_exporter": "python",
   "pygments_lexer": "ipython3",
   "version": "3.9.12"
  }
 },
 "nbformat": 4,
 "nbformat_minor": 5
}
