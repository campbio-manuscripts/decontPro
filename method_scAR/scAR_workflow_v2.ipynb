{
 "cells": [
  {
   "cell_type": "code",
   "execution_count": 1,
   "id": "8966a2ab",
   "metadata": {},
   "outputs": [],
   "source": [
    "# Tutorial: https://scar-tutorials.readthedocs.io/en/main/\n",
    "import numpy as np\n",
    "import pandas as pd\n",
    "import scanpy as sc\n",
    "from scar import model\n",
    "import os\n",
    "\n",
    "import warnings\n",
    "warnings.simplefilter(\"ignore\")"
   ]
  },
  {
   "cell_type": "code",
   "execution_count": 2,
   "id": "b442d95b",
   "metadata": {},
   "outputs": [],
   "source": [
    "# Import data\n",
    "\n",
    "# datadir_name = 'data_pbmc5knextgem'\n",
    "# datadir_name = 'data_pbmc10khealthdonor'\n",
    "# datadir_name = 'data_malt10k'\n",
    "# datadir = '/rprojectnb2/camplab/home/yin/poisson/' + datadir_name\n",
    "\n",
    "\n",
    "# Import data\n",
    "# datadir_name = 'young_aged'\n",
    "# datadir = '/rprojectnb2/camplab/home/yin/decontX_ADT/zhangetal/young-aged'\n",
    "\n",
    "\n",
    "\n",
    "adata_filtered = sc.read_10x_mtx(\n",
    "    datadir + '/filtered_feature_bc_matrix', \n",
    "    var_names='gene_symbols',\n",
    "    gex_only= False)\n",
    "\n",
    "\n",
    "\n",
    "# Import raw count matrix\n",
    "adata_raw = sc.read_10x_mtx(\n",
    "    datadir + '/raw_feature_bc_matrix',\n",
    "    var_names='gene_symbols',\n",
    "    gex_only= False)\n"
   ]
  },
  {
   "cell_type": "code",
   "execution_count": 3,
   "id": "24dfd7ed",
   "metadata": {},
   "outputs": [],
   "source": [
    "adata_filtered.layers['counts'] = adata_filtered.X.copy()\n",
    "adata_raw.layers['counts'] = adata_raw.X.copy()"
   ]
  },
  {
   "cell_type": "code",
   "execution_count": 4,
   "id": "73b95d50",
   "metadata": {},
   "outputs": [
    {
     "name": "stdout",
     "output_type": "stream",
     "text": [
      "View of AnnData object with n_obs × n_vars = 3423 × 141\n",
      "    var: 'gene_ids', 'feature_types'\n",
      "    layers: 'counts'\n",
      "View of AnnData object with n_obs × n_vars = 3423 × 36601\n",
      "    var: 'gene_ids', 'feature_types'\n",
      "    layers: 'counts'\n",
      "View of AnnData object with n_obs × n_vars = 724721 × 141\n",
      "    var: 'gene_ids', 'feature_types'\n",
      "    layers: 'counts'\n",
      "View of AnnData object with n_obs × n_vars = 724721 × 36601\n",
      "    var: 'gene_ids', 'feature_types'\n",
      "    layers: 'counts'\n"
     ]
    }
   ],
   "source": [
    "# Split data\n",
    "protein_filtered = adata_filtered[:, adata_filtered.var['feature_types'] != 'Gene Expression']\n",
    "print(protein_filtered)\n",
    "rna_filtered = adata_filtered[:, adata_filtered.var['feature_types'] == 'Gene Expression']\n",
    "print(rna_filtered)\n",
    "\n",
    "protein_raw = adata_raw[:, adata_raw.var['feature_types'] != 'Gene Expression']\n",
    "print(protein_raw)\n",
    "rna_raw = adata_raw[:, adata_raw.var['feature_types'] == 'Gene Expression']\n",
    "print(rna_raw)"
   ]
  },
  {
   "cell_type": "code",
   "execution_count": 5,
   "id": "d46d4f81",
   "metadata": {},
   "outputs": [
    {
     "name": "stdout",
     "output_type": "stream",
     "text": [
      "View of AnnData object with n_obs × n_vars = 3423 × 141\n",
      "    var: 'gene_ids', 'feature_types'\n",
      "    layers: 'counts'\n",
      "View of AnnData object with n_obs × n_vars = 3423 × 131\n",
      "    var: 'gene_ids', 'feature_types'\n",
      "    layers: 'counts'\n"
     ]
    }
   ],
   "source": [
    "# Remove HTO tag\n",
    "\n",
    "hto_f = ['HTO' in name for name in protein_filtered.var_names]\n",
    "hto_f = np.array(hto_f)\n",
    "protein_filtered = protein_filtered[:,~hto_f]\n",
    "protein_raw = protein_raw[:,~hto_f]\n",
    "\n",
    "print(protein_filtered)\n",
    "\n",
    "hto_f = ['ADT' in name for name in protein_filtered.var_names]\n",
    "hto_f = np.array(hto_f)\n",
    "protein_filtered = protein_filtered[:,~hto_f]\n",
    "protein_raw = protein_raw[:,~hto_f]\n",
    "\n",
    "print(protein_filtered)\n",
    "\n",
    "adt_f = np.sum(protein_filtered.X > 0, 0) > 50\n",
    "protein_filtered = protein_filtered[:,adt_f]\n",
    "protein_raw = protein_raw[:,adt_f]"
   ]
  },
  {
   "cell_type": "code",
   "execution_count": 6,
   "id": "3bad4197",
   "metadata": {},
   "outputs": [
    {
     "name": "stdout",
     "output_type": "stream",
     "text": [
      "View of AnnData object with n_obs × n_vars = 3423 × 130\n",
      "    var: 'gene_ids', 'feature_types'\n",
      "    layers: 'counts'\n"
     ]
    }
   ],
   "source": [
    "print(protein_filtered)"
   ]
  },
  {
   "cell_type": "code",
   "execution_count": 7,
   "id": "938b735d",
   "metadata": {},
   "outputs": [],
   "source": [
    "# QC raw\n",
    "\n",
    "sc.pp.calculate_qc_metrics(rna_raw,\n",
    "                           var_type='genes',\n",
    "                           percent_top = None,\n",
    "                           inplace=True)\n",
    "\n",
    "# print(rna.var)\n",
    "# print(rna.obs)\n",
    "\n",
    "sc.pp.calculate_qc_metrics(protein_raw,\n",
    "                           var_type='adt',\n",
    "                           percent_top = None,\n",
    "                           inplace=True)\n",
    "\n",
    "\n",
    "flt = np.logical_and.reduce((rna_raw.obs['total_counts'] > 0,\n",
    "                             protein_raw.obs['total_counts'] > 0))\n",
    "\n",
    "protein_raw = protein_raw[flt,:]\n",
    "rna_raw = rna_raw[flt,:]\n"
   ]
  },
  {
   "cell_type": "code",
   "execution_count": 8,
   "id": "03d6bf35",
   "metadata": {},
   "outputs": [
    {
     "data": {
      "text/plain": [
       "View of AnnData object with n_obs × n_vars = 180230 × 130\n",
       "    obs: 'n_adt_by_counts', 'log1p_n_adt_by_counts', 'total_counts', 'log1p_total_counts'\n",
       "    var: 'gene_ids', 'feature_types', 'n_cells_by_counts', 'mean_counts', 'log1p_mean_counts', 'pct_dropout_by_counts', 'total_counts', 'log1p_total_counts'\n",
       "    layers: 'counts'"
      ]
     },
     "execution_count": 8,
     "metadata": {},
     "output_type": "execute_result"
    }
   ],
   "source": [
    "protein_raw"
   ]
  },
  {
   "cell_type": "code",
   "execution_count": 9,
   "id": "4f400a23",
   "metadata": {},
   "outputs": [
    {
     "data": {
      "text/plain": [
       "131021"
      ]
     },
     "execution_count": 9,
     "metadata": {},
     "output_type": "execute_result"
    }
   ],
   "source": [
    "empty_flt = np.logical_and.reduce((rna_raw.obs['total_counts'] < 100,\n",
    "                                   protein_raw.obs['total_counts'] < 25))\n",
    "np.sum(empty_flt)"
   ]
  },
  {
   "cell_type": "code",
   "execution_count": 10,
   "id": "89d6a1d3",
   "metadata": {},
   "outputs": [
    {
     "name": "stdout",
     "output_type": "stream",
     "text": [
      "View of AnnData object with n_obs × n_vars = 131021 × 130\n",
      "    obs: 'n_adt_by_counts', 'log1p_n_adt_by_counts', 'total_counts', 'log1p_total_counts'\n",
      "    var: 'gene_ids', 'feature_types', 'n_cells_by_counts', 'mean_counts', 'log1p_mean_counts', 'pct_dropout_by_counts', 'total_counts', 'log1p_total_counts'\n",
      "    layers: 'counts'\n"
     ]
    }
   ],
   "source": [
    "# Remove filtered from raw to get empty\n",
    "\n",
    "# empty_filter = ~protein_raw.obs_names.isin(protein_filtered.obs_names)\n",
    "protein_empty = protein_raw[empty_flt,:]\n",
    "\n",
    "print(protein_empty)"
   ]
  },
  {
   "cell_type": "code",
   "execution_count": 11,
   "id": "51fcc5f2",
   "metadata": {},
   "outputs": [
    {
     "name": "stdout",
     "output_type": "stream",
     "text": [
      "Num of MT genes: 13\n"
     ]
    }
   ],
   "source": [
    "# QC filtered\n",
    "\n",
    "# calc qc metrics\n",
    "rna_filtered.var['mito'] = rna_filtered.var_names.str.startswith(\"MT-\")\n",
    "print('Num of MT genes: ' + str(sum(rna_filtered.var['mito'])))\n",
    "\n",
    "if sum(rna_filtered.var['mito']) == 0:\n",
    "    rna_filtered.var['mito'] = rna_filtered.var_names.str.startswith(\"mt-\")\n",
    "    print('Num of mt genes: ' + str(sum(rna_filtered.var['mito'])))\n",
    "\n",
    "sc.pp.calculate_qc_metrics(rna_filtered,\n",
    "                           qc_vars=[\"mito\"],\n",
    "                           var_type='genes',\n",
    "                           percent_top = None,\n",
    "                           inplace=True)\n",
    "\n",
    "sc.pp.calculate_qc_metrics(protein_filtered,\n",
    "                           var_type='adt',\n",
    "                           percent_top = None,\n",
    "                           inplace=True)\n"
   ]
  },
  {
   "cell_type": "code",
   "execution_count": 12,
   "id": "2ed7f78d",
   "metadata": {},
   "outputs": [
    {
     "name": "stdout",
     "output_type": "stream",
     "text": [
      "Num of cells after filtering: 3223\n"
     ]
    }
   ],
   "source": [
    "# Remove high mitocondrial percentage cells\n",
    "# Remove 0 count cells\n",
    "# Remove outliers\n",
    "\n",
    "flt = np.logical_and.reduce((rna_filtered.obs['pct_counts_mito'] < 14,\n",
    "                            rna_filtered.obs['total_counts'] > 0,\n",
    "                            protein_filtered.obs['total_counts'] > 0,\n",
    "                            rna_filtered.obs['total_counts'] > np.quantile(rna_filtered.obs['total_counts'], 0.01),\n",
    "                            rna_filtered.obs['total_counts'] < np.quantile(rna_filtered.obs['total_counts'], 0.99),\n",
    "                            protein_filtered.obs['total_counts'] > np.quantile(protein_filtered.obs['total_counts'], 0.01),\n",
    "                            protein_filtered.obs['total_counts'] < np.quantile(protein_filtered.obs['total_counts'], 0.99)))\n",
    " \n",
    "    \n",
    "    \n",
    "\n",
    "print('Num of cells after filtering: ' + str(sum(flt)))\n",
    "\n",
    "\n",
    "protein_filtered = protein_filtered[flt,:]\n"
   ]
  },
  {
   "cell_type": "code",
   "execution_count": 13,
   "id": "fbf2440f",
   "metadata": {},
   "outputs": [
    {
     "name": "stdout",
     "output_type": "stream",
     "text": [
      "                gene_ids     feature_types  n_cells_by_counts  mean_counts  \\\n",
      "CD3_TotalSeqC        CD3  Antibody Capture               3263    17.103127   \n",
      "CD19_TotalSeqC      CD19  Antibody Capture               2397     7.016360   \n",
      "CD4_TotalSeqC        CD4  Antibody Capture               3258    22.333042   \n",
      "CD14_TotalSeqC      CD14  Antibody Capture               1744     0.871166   \n",
      "CD16_TotalSeqC      CD16  Antibody Capture               1830     1.652936   \n",
      "...                  ...               ...                ...          ...   \n",
      "HLA-E_TotalSeqC    HLA-E  Antibody Capture               3390     7.777680   \n",
      "CD82_TotalSeqC      CD82  Antibody Capture               3411    15.306457   \n",
      "CD101_TotalSeqC    CD101  Antibody Capture               3234     6.860649   \n",
      "C5AR1_TotalSeqC    C5AR1  Antibody Capture               3164     7.378031   \n",
      "GGT1_TotalSeqC      GGT1  Antibody Capture               3345    11.355828   \n",
      "\n",
      "                 log1p_mean_counts  pct_dropout_by_counts  total_counts  \\\n",
      "CD3_TotalSeqC             2.896085               4.674262       58544.0   \n",
      "CD19_TotalSeqC            2.081484              29.973707       24017.0   \n",
      "CD4_TotalSeqC             3.149870               4.820333       76446.0   \n",
      "CD14_TotalSeqC            0.626562              49.050540        2982.0   \n",
      "CD16_TotalSeqC            0.975667              46.538124        5658.0   \n",
      "...                            ...                    ...           ...   \n",
      "HLA-E_TotalSeqC           2.172212               0.964067       26623.0   \n",
      "CD82_TotalSeqC            2.791561               0.350570       52394.0   \n",
      "CD101_TotalSeqC           2.061869               5.521472       23484.0   \n",
      "C5AR1_TotalSeqC           2.125613               7.566462       25255.0   \n",
      "GGT1_TotalSeqC            2.514128               2.278703       38871.0   \n",
      "\n",
      "                 log1p_total_counts  \n",
      "CD3_TotalSeqC             10.977551  \n",
      "CD19_TotalSeqC            10.086559  \n",
      "CD4_TotalSeqC             11.244353  \n",
      "CD14_TotalSeqC             8.000685  \n",
      "CD16_TotalSeqC             8.641003  \n",
      "...                             ...  \n",
      "HLA-E_TotalSeqC           10.189569  \n",
      "CD82_TotalSeqC            10.866567  \n",
      "CD101_TotalSeqC           10.064117  \n",
      "C5AR1_TotalSeqC           10.136819  \n",
      "GGT1_TotalSeqC            10.568029  \n",
      "\n",
      "[130 rows x 8 columns]\n"
     ]
    }
   ],
   "source": [
    "# Apply filter\n",
    "\n",
    "print(protein_filtered.var)"
   ]
  },
  {
   "cell_type": "code",
   "execution_count": 14,
   "id": "d5b75a18",
   "metadata": {},
   "outputs": [
    {
     "data": {
      "text/html": [
       "<div>\n",
       "<style scoped>\n",
       "    .dataframe tbody tr th:only-of-type {\n",
       "        vertical-align: middle;\n",
       "    }\n",
       "\n",
       "    .dataframe tbody tr th {\n",
       "        vertical-align: top;\n",
       "    }\n",
       "\n",
       "    .dataframe thead th {\n",
       "        text-align: right;\n",
       "    }\n",
       "</style>\n",
       "<table border=\"1\" class=\"dataframe\">\n",
       "  <thead>\n",
       "    <tr style=\"text-align: right;\">\n",
       "      <th></th>\n",
       "      <th>ambient profile</th>\n",
       "    </tr>\n",
       "  </thead>\n",
       "  <tbody>\n",
       "    <tr>\n",
       "      <th>CD3_TotalSeqC</th>\n",
       "      <td>0.007841</td>\n",
       "    </tr>\n",
       "    <tr>\n",
       "      <th>CD19_TotalSeqC</th>\n",
       "      <td>0.004462</td>\n",
       "    </tr>\n",
       "    <tr>\n",
       "      <th>CD4_TotalSeqC</th>\n",
       "      <td>0.011405</td>\n",
       "    </tr>\n",
       "    <tr>\n",
       "      <th>CD14_TotalSeqC</th>\n",
       "      <td>0.003086</td>\n",
       "    </tr>\n",
       "    <tr>\n",
       "      <th>CD16_TotalSeqC</th>\n",
       "      <td>0.003058</td>\n",
       "    </tr>\n",
       "  </tbody>\n",
       "</table>\n",
       "</div>"
      ],
      "text/plain": [
       "                ambient profile\n",
       "CD3_TotalSeqC          0.007841\n",
       "CD19_TotalSeqC         0.004462\n",
       "CD4_TotalSeqC          0.011405\n",
       "CD14_TotalSeqC         0.003086\n",
       "CD16_TotalSeqC         0.003058"
      ]
     },
     "execution_count": 14,
     "metadata": {},
     "output_type": "execute_result"
    }
   ],
   "source": [
    "ambient_profile = pd.DataFrame((protein_empty.X.sum(axis=0)/protein_empty.X.sum()).A1,\n",
    "                               index = protein_empty.var_names,\n",
    "                               columns = ['ambient profile'])\n",
    "ambient_profile.head()"
   ]
  },
  {
   "cell_type": "code",
   "execution_count": 15,
   "id": "8e280b6c",
   "metadata": {},
   "outputs": [
    {
     "data": {
      "text/html": [
       "<div>\n",
       "<style scoped>\n",
       "    .dataframe tbody tr th:only-of-type {\n",
       "        vertical-align: middle;\n",
       "    }\n",
       "\n",
       "    .dataframe tbody tr th {\n",
       "        vertical-align: top;\n",
       "    }\n",
       "\n",
       "    .dataframe thead th {\n",
       "        text-align: right;\n",
       "    }\n",
       "</style>\n",
       "<table border=\"1\" class=\"dataframe\">\n",
       "  <thead>\n",
       "    <tr style=\"text-align: right;\">\n",
       "      <th></th>\n",
       "      <th>CD3</th>\n",
       "      <th>CD19</th>\n",
       "      <th>CD4</th>\n",
       "      <th>CD14</th>\n",
       "      <th>CD16</th>\n",
       "      <th>CD56</th>\n",
       "      <th>CD25</th>\n",
       "      <th>PD-1</th>\n",
       "      <th>TIGIT</th>\n",
       "      <th>IgG1_control</th>\n",
       "      <th>...</th>\n",
       "      <th>IGKC</th>\n",
       "      <th>LILRB1</th>\n",
       "      <th>FCER2</th>\n",
       "      <th>SIGLEC7</th>\n",
       "      <th>ADGRG1</th>\n",
       "      <th>HLA-E</th>\n",
       "      <th>CD82</th>\n",
       "      <th>CD101</th>\n",
       "      <th>C5AR1</th>\n",
       "      <th>GGT1</th>\n",
       "    </tr>\n",
       "  </thead>\n",
       "  <tbody>\n",
       "    <tr>\n",
       "      <th>AAACCTGAGCAATCTC-1</th>\n",
       "      <td>22.0</td>\n",
       "      <td>2.0</td>\n",
       "      <td>19.0</td>\n",
       "      <td>1.0</td>\n",
       "      <td>1.0</td>\n",
       "      <td>0.0</td>\n",
       "      <td>4.0</td>\n",
       "      <td>11.0</td>\n",
       "      <td>2.0</td>\n",
       "      <td>3.0</td>\n",
       "      <td>...</td>\n",
       "      <td>1.0</td>\n",
       "      <td>2.0</td>\n",
       "      <td>4.0</td>\n",
       "      <td>0.0</td>\n",
       "      <td>3.0</td>\n",
       "      <td>8.0</td>\n",
       "      <td>11.0</td>\n",
       "      <td>9.0</td>\n",
       "      <td>4.0</td>\n",
       "      <td>6.0</td>\n",
       "    </tr>\n",
       "    <tr>\n",
       "      <th>AAACCTGCAAAGGCGT-1</th>\n",
       "      <td>8.0</td>\n",
       "      <td>1.0</td>\n",
       "      <td>8.0</td>\n",
       "      <td>0.0</td>\n",
       "      <td>2.0</td>\n",
       "      <td>0.0</td>\n",
       "      <td>6.0</td>\n",
       "      <td>9.0</td>\n",
       "      <td>1.0</td>\n",
       "      <td>2.0</td>\n",
       "      <td>...</td>\n",
       "      <td>3.0</td>\n",
       "      <td>1.0</td>\n",
       "      <td>5.0</td>\n",
       "      <td>0.0</td>\n",
       "      <td>0.0</td>\n",
       "      <td>5.0</td>\n",
       "      <td>9.0</td>\n",
       "      <td>1.0</td>\n",
       "      <td>0.0</td>\n",
       "      <td>3.0</td>\n",
       "    </tr>\n",
       "    <tr>\n",
       "      <th>AAACCTGGTAGCAAAT-1</th>\n",
       "      <td>51.0</td>\n",
       "      <td>0.0</td>\n",
       "      <td>30.0</td>\n",
       "      <td>0.0</td>\n",
       "      <td>1.0</td>\n",
       "      <td>0.0</td>\n",
       "      <td>2.0</td>\n",
       "      <td>7.0</td>\n",
       "      <td>5.0</td>\n",
       "      <td>3.0</td>\n",
       "      <td>...</td>\n",
       "      <td>4.0</td>\n",
       "      <td>2.0</td>\n",
       "      <td>0.0</td>\n",
       "      <td>0.0</td>\n",
       "      <td>1.0</td>\n",
       "      <td>1.0</td>\n",
       "      <td>6.0</td>\n",
       "      <td>3.0</td>\n",
       "      <td>3.0</td>\n",
       "      <td>4.0</td>\n",
       "    </tr>\n",
       "    <tr>\n",
       "      <th>AAACCTGGTGATGCCC-1</th>\n",
       "      <td>22.0</td>\n",
       "      <td>1.0</td>\n",
       "      <td>0.0</td>\n",
       "      <td>0.0</td>\n",
       "      <td>0.0</td>\n",
       "      <td>0.0</td>\n",
       "      <td>2.0</td>\n",
       "      <td>10.0</td>\n",
       "      <td>5.0</td>\n",
       "      <td>0.0</td>\n",
       "      <td>...</td>\n",
       "      <td>2.0</td>\n",
       "      <td>1.0</td>\n",
       "      <td>3.0</td>\n",
       "      <td>0.0</td>\n",
       "      <td>0.0</td>\n",
       "      <td>3.0</td>\n",
       "      <td>1.0</td>\n",
       "      <td>3.0</td>\n",
       "      <td>2.0</td>\n",
       "      <td>8.0</td>\n",
       "    </tr>\n",
       "    <tr>\n",
       "      <th>AAACCTGTCGACAGCC-1</th>\n",
       "      <td>17.0</td>\n",
       "      <td>0.0</td>\n",
       "      <td>2.0</td>\n",
       "      <td>2.0</td>\n",
       "      <td>1.0</td>\n",
       "      <td>0.0</td>\n",
       "      <td>1.0</td>\n",
       "      <td>15.0</td>\n",
       "      <td>8.0</td>\n",
       "      <td>1.0</td>\n",
       "      <td>...</td>\n",
       "      <td>3.0</td>\n",
       "      <td>2.0</td>\n",
       "      <td>2.0</td>\n",
       "      <td>0.0</td>\n",
       "      <td>0.0</td>\n",
       "      <td>5.0</td>\n",
       "      <td>9.0</td>\n",
       "      <td>1.0</td>\n",
       "      <td>2.0</td>\n",
       "      <td>7.0</td>\n",
       "    </tr>\n",
       "  </tbody>\n",
       "</table>\n",
       "<p>5 rows × 130 columns</p>\n",
       "</div>"
      ],
      "text/plain": [
       "                     CD3  CD19   CD4  CD14  CD16  CD56  CD25  PD-1  TIGIT  \\\n",
       "AAACCTGAGCAATCTC-1  22.0   2.0  19.0   1.0   1.0   0.0   4.0  11.0    2.0   \n",
       "AAACCTGCAAAGGCGT-1   8.0   1.0   8.0   0.0   2.0   0.0   6.0   9.0    1.0   \n",
       "AAACCTGGTAGCAAAT-1  51.0   0.0  30.0   0.0   1.0   0.0   2.0   7.0    5.0   \n",
       "AAACCTGGTGATGCCC-1  22.0   1.0   0.0   0.0   0.0   0.0   2.0  10.0    5.0   \n",
       "AAACCTGTCGACAGCC-1  17.0   0.0   2.0   2.0   1.0   0.0   1.0  15.0    8.0   \n",
       "\n",
       "                    IgG1_control  ...  IGKC  LILRB1  FCER2  SIGLEC7  ADGRG1  \\\n",
       "AAACCTGAGCAATCTC-1           3.0  ...   1.0     2.0    4.0      0.0     3.0   \n",
       "AAACCTGCAAAGGCGT-1           2.0  ...   3.0     1.0    5.0      0.0     0.0   \n",
       "AAACCTGGTAGCAAAT-1           3.0  ...   4.0     2.0    0.0      0.0     1.0   \n",
       "AAACCTGGTGATGCCC-1           0.0  ...   2.0     1.0    3.0      0.0     0.0   \n",
       "AAACCTGTCGACAGCC-1           1.0  ...   3.0     2.0    2.0      0.0     0.0   \n",
       "\n",
       "                    HLA-E  CD82  CD101  C5AR1  GGT1  \n",
       "AAACCTGAGCAATCTC-1    8.0  11.0    9.0    4.0   6.0  \n",
       "AAACCTGCAAAGGCGT-1    5.0   9.0    1.0    0.0   3.0  \n",
       "AAACCTGGTAGCAAAT-1    1.0   6.0    3.0    3.0   4.0  \n",
       "AAACCTGGTGATGCCC-1    3.0   1.0    3.0    2.0   8.0  \n",
       "AAACCTGTCGACAGCC-1    5.0   9.0    1.0    2.0   7.0  \n",
       "\n",
       "[5 rows x 130 columns]"
      ]
     },
     "execution_count": 15,
     "metadata": {},
     "output_type": "execute_result"
    }
   ],
   "source": [
    "filtered_counts = protein_filtered.to_df()\n",
    "filtered_counts.columns = filtered_counts.columns.str.replace('_TotalSeqC','')\n",
    "\n",
    "filtered_counts.head()"
   ]
  },
  {
   "cell_type": "code",
   "execution_count": null,
   "id": "a242c56b",
   "metadata": {},
   "outputs": [
    {
     "name": "stdout",
     "output_type": "stream",
     "text": [
      "..Running VAE using the following param set:\n",
      "......denoised count type:  ADT\n",
      "......count model:  binomial\n",
      "......num_input_feature:  130\n",
      "......NN_layer1:  150\n",
      "......NN_layer2:  100\n",
      "......latent_space:  15\n",
      "......dropout_prob:  0\n",
      "......kld_weight:  1e-05\n",
      "......lr:  0.001\n",
      "......lr_step_size:  5\n",
      "......lr_gamma:  0.97\n",
      "===========================================\n",
      "  Training.....\n",
      " 35%|███▌      | 28/80 [00:21<00:40,  1.29it/s]"
     ]
    }
   ],
   "source": [
    "ADT_scar = model(raw_count = filtered_counts,\n",
    "                 ambient_profile = ambient_profile,  # Providing ambient profile is recommended for CITEseq; in other modes, you can leave this argument as the default value -- None\n",
    "                 feature_type = 'ADT', # \"ADT\" or \"ADTs\" for denoising protein counts in CITE-seq\n",
    "                 count_model = 'binomial'   # Depending on your data's sparsity, you can choose between 'binomial', 'possion', and 'zeroinflatedpossion'\n",
    "                )\n",
    "\n",
    "ADT_scar.train(epochs=80,\n",
    "               batch_size=64,\n",
    "               verbose=True\n",
    "              )\n",
    "\n",
    "# After training, we can infer the true protein signal\n",
    "ADT_scar.inference()"
   ]
  },
  {
   "cell_type": "code",
   "execution_count": null,
   "id": "0c636d61",
   "metadata": {},
   "outputs": [],
   "source": [
    "denoised_ADT = pd.DataFrame(ADT_scar.native_counts,\n",
    "                            index=filtered_counts.index,\n",
    "                            columns=filtered_counts.columns)\n",
    "\n",
    "print(type(denoised_ADT))\n",
    "print(denoised_ADT.shape)\n",
    "denoised_ADT.head()\n"
   ]
  },
  {
   "cell_type": "code",
   "execution_count": null,
   "id": "86bf8913",
   "metadata": {},
   "outputs": [],
   "source": [
    "denoised_ADT.to_csv('scAR_denoised_'+datadir_name+'.csv')"
   ]
  }
 ],
 "metadata": {
  "kernelspec": {
   "display_name": "scar",
   "language": "python",
   "name": "scar"
  },
  "language_info": {
   "codemirror_mode": {
    "name": "ipython",
    "version": 3
   },
   "file_extension": ".py",
   "mimetype": "text/x-python",
   "name": "python",
   "nbconvert_exporter": "python",
   "pygments_lexer": "ipython3",
   "version": "3.10.4"
  }
 },
 "nbformat": 4,
 "nbformat_minor": 5
}
